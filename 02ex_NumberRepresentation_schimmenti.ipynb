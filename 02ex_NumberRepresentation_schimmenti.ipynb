{
 "cells": [
  {
   "cell_type": "code",
   "execution_count": 14,
   "metadata": {},
   "outputs": [
    {
     "data": {
      "text/plain": [
       "'17'"
      ]
     },
     "execution_count": 14,
     "metadata": {},
     "output_type": "execute_result"
    }
   ],
   "source": [
    "#Esercizio 1\n",
    "def convert(num, baseFrom, baseTo):\n",
    "    if baseTo == 10:\n",
    "        return int(num, baseFrom)\n",
    "    elif baseTo == 2:\n",
    "        if baseFrom == 10:\n",
    "            return bin(num)\n",
    "        elif baseFrom == 16:\n",
    "            return bin(int(num, 16))\n",
    "    elif baseTo == 16:\n",
    "        if baseFrom == 10:\n",
    "            return hex(num)\n",
    "        elif baseFrom == 2:\n",
    "            return hex(int(num, 2))\n",
    "    else:\n",
    "        return a\n",
    "    \n",
    "def binToDec(binStr):\n",
    "    num = 0\n",
    "    n = len(binStr)\n",
    "    for i in range(n):\n",
    "        if binStr[i] == '1':\n",
    "            num += 2**(n-i-1)\n",
    "        elif binStr[i] == '0':\n",
    "            continue\n",
    "        else:\n",
    "            print(\"error\")\n",
    "            return\n",
    "    return num\n",
    "\n",
    "\n",
    "hexDecDict = {'0' : 0, '1' : 1, '2' : 2, '3' : 3, '4' : 4, '5' : 5, '6' : 6, '7' : 7, '8' : 8, '9' : 9, 'A' : 10, 'B' : 11, 'C' : 12,\n",
    "          'D' : 13, 'E' : 14, 'F' : 15}\n",
    "\n",
    "hexChars = \"0123456789ABCDEF\"\n",
    "\n",
    "def hexToDec(hexStr):\n",
    "    uHex = hexStr.upper()\n",
    "    num = 0\n",
    "    n = len(uHex)\n",
    "    for i in range(n):\n",
    "        if uHex[i] in hexDecDict:\n",
    "            num += (16**(n-i-1)*hexDecDict[uHex[i]])\n",
    "        else:\n",
    "            print(\"error\")\n",
    "            return\n",
    "    return num\n",
    "\n",
    "def decToBin(num):\n",
    "    div = num\n",
    "    bStr = \"\"\n",
    "    while div != 0:\n",
    "        rem = div % 2\n",
    "        div = div // 2\n",
    "        if(rem == 0):\n",
    "            bStr += '0'\n",
    "        else:\n",
    "            bStr += '1'\n",
    "    return bStr[::-1]\n",
    "\n",
    "def decToHex(num):\n",
    "    div = num\n",
    "    bStr = \"\"\n",
    "    while div != 0:\n",
    "        rem = div % 16\n",
    "        div = div // 16\n",
    "        bStr += hexChars[rem]\n",
    "    return bStr[::-1]\n",
    "\n",
    "decToHex(23)\n"
   ]
  },
  {
   "cell_type": "code",
   "execution_count": 15,
   "metadata": {},
   "outputs": [
    {
     "data": {
      "text/plain": [
       "3.5999999046325684"
      ]
     },
     "execution_count": 15,
     "metadata": {},
     "output_type": "execute_result"
    }
   ],
   "source": [
    "#Esercizio 2\n",
    "bias = 127\n",
    "def int32tofloat32(num):\n",
    "    try:\n",
    "        sgn = (num & 0x80000000) >> 31\n",
    "        exponent = (num & 0x7F800000) >> 23\n",
    "        mant = (num & 0x7FFFFF)\n",
    "        base = 1\n",
    "        for i in range(1,23):\n",
    "            base +=(2.0**(-i))*((mant >> (23 - i))&0x1)\n",
    "        temp = base*(2.0**(exponent-bias))\n",
    "        if sgn == 1:\n",
    "            return -temp\n",
    "        return temp\n",
    "    except:\n",
    "        print(\"error\")\n",
    "        \n",
    "#this should be 3.6        \n",
    "int32tofloat32(0x40666666)"
   ]
  },
  {
   "cell_type": "code",
   "execution_count": 16,
   "metadata": {},
   "outputs": [
    {
     "name": "stdout",
     "output_type": "stream",
     "text": [
      "5e-324\n",
      "8.98846567431158e+307\n"
     ]
    }
   ],
   "source": [
    "#Esercizio 3\n",
    "lastu = 0\n",
    "lasto = 0\n",
    "underx = 1\n",
    "overx = 1\n",
    "\n",
    "while True:\n",
    "    u = underx/2.0\n",
    "    if(underx == u):\n",
    "        print(lastu)\n",
    "        break\n",
    "    else:\n",
    "        lastu = underx\n",
    "        underx = u\n",
    "        \n",
    "while True:\n",
    "    o = overx*2.0\n",
    "    if(overx == o):\n",
    "        print(lasto)\n",
    "        break\n",
    "    else:\n",
    "        lasto = overx\n",
    "        overx = o\n"
   ]
  },
  {
   "cell_type": "code",
   "execution_count": 17,
   "metadata": {},
   "outputs": [
    {
     "name": "stdout",
     "output_type": "stream",
     "text": [
      "1.862645149230957e-16\n"
     ]
    }
   ],
   "source": [
    "#Esercizio 4\n",
    "x = 1.204565\n",
    "addendum = 0.0000001\n",
    "\n",
    "while True:\n",
    "    y = x + (addendum/2)\n",
    "    if(y == x):\n",
    "        print(addendum)\n",
    "        break\n",
    "    else:\n",
    "        addendum = addendum/2\n"
   ]
  },
  {
   "cell_type": "code",
   "execution_count": 18,
   "metadata": {},
   "outputs": [
    {
     "name": "stdout",
     "output_type": "stream",
     "text": [
      "(-9.999894245993346e-07, -999999.999999)\n",
      "(-1.00000761449437e-06, -1000018.1900864029)\n",
      "(-1.00000761449437e-06, -999992.3855636101)\n"
     ]
    }
   ],
   "source": [
    "#Esercizio 5\n",
    "import math\n",
    "\n",
    "def solvequadratic(a,b,c):\n",
    "    delta = b*b - 4*a*c\n",
    "    return ((-b+math.sqrt(delta))/(2*a), (-b-math.sqrt(delta))/(2*a))\n",
    "\n",
    "def solvequadratic_stable(a,b,c):\n",
    "    delta = b*b - 4*a*c\n",
    "    return ((b*b-delta)/(2*a*(-b-math.sqrt(delta))),(b*b-delta)/(2*a*(-b+math.sqrt(delta))))\n",
    "\n",
    "def solvequadratic_accurate(a,b,c):\n",
    "    delta = b*b - 4*a*c\n",
    "    x = 0\n",
    "    if b > 0:\n",
    "        x = (b*b-delta)/(2*a*(-b-math.sqrt(delta)))\n",
    "        return (x, (c/a)/x)\n",
    "    else:\n",
    "        x = (b*b-delta)/(2*a*(-b+math.sqrt(delta)))\n",
    "        return ((c/a)/x, x)\n",
    "\n",
    "m1 = solvequadratic(0.001,1000,0.001)\n",
    "m2 = solvequadratic_stable(0.001,1000,0.001)\n",
    "m3 = solvequadratic_accurate(0.001,1000,0.001)\n",
    "\n",
    "#expected difference sqrt(10^6-4*10^-6)/10^-3\n",
    "print(m1)\n",
    "print(m2)\n",
    "print(m3)"
   ]
  },
  {
   "cell_type": "code",
   "execution_count": 19,
   "metadata": {},
   "outputs": [
    {
     "name": "stdout",
     "output_type": "stream",
     "text": [
      "Numerical derivative of x(x-1) at x=1, delta=10: 11.0\n",
      "Derivative of x(x-1) at x=1: 1\n",
      "Delta is: 0.0001 Error is: -9.999999988985486e-05\n",
      "Delta is: 1e-06 Error is: -9.99917733279787e-07\n",
      "Delta is: 1e-08 Error is: -3.922528746258536e-09\n",
      "Delta is: 1e-10 Error is: -8.284037100736441e-08\n",
      "Delta is: 1e-12 Error is: -8.890058334132256e-05\n",
      "Delta is: 1e-14 Error is: 0.0007992778373491216\n"
     ]
    }
   ],
   "source": [
    "#Esercizio 6\n",
    "import math\n",
    "fun = lambda x : x*(x-1)\n",
    "dfun = lambda x : 2*x-1\n",
    "def forward_diff(func, x, delta):\n",
    "    return (func(x+delta)-func(x))/delta\n",
    "\n",
    "print(\"Numerical derivative of x(x-1) at x=1, delta=10:\", forward_diff(fun, 1, 10))\n",
    "print(\"Derivative of x(x-1) at x=1:\",dfun(1))\n",
    "\n",
    "delta = 1E-4\n",
    "dvt = dfun(1)\n",
    "for i in range(6):\n",
    "    print(\"Delta is:\", delta, \"Error is:\", dvt - forward_diff(fun, 1, delta))\n",
    "    delta /= 100\n",
    "\n"
   ]
  },
  {
   "cell_type": "code",
   "execution_count": 20,
   "metadata": {},
   "outputs": [
    {
     "name": "stdout",
     "output_type": "stream",
     "text": [
      "Wall time: 1.65 s\n",
      "Error with about 1 second execution: -2.8860713818801287e-10\n",
      "Wall time: 1min 3s\n",
      "Error with about 1 minute execution: 1.0909022574168148e-09\n"
     ]
    }
   ],
   "source": [
    "#Esercizio 7\n",
    "import math\n",
    "\n",
    "def num_integral(f, a, b, N):\n",
    "    h = (b-a)/N\n",
    "    x = a\n",
    "    I = 0\n",
    "    for k in range(N+1):\n",
    "        try:\n",
    "            I += f(x)\n",
    "            x += h\n",
    "        except:\n",
    "            break\n",
    "    return I*h\n",
    "\n",
    "fun = lambda x : math.sqrt(1-x*x)\n",
    "%time I = num_integral(fun, -1,1,3000000)\n",
    "print(\"Error with about 1 second execution:\", I - math.pi/2 )\n",
    "\n",
    "%time Ibest = num_integral(fun, -1,1,90000000)\n",
    "print(\"Error with about 1 minute execution:\", Ibest - math.pi/2 )"
   ]
  },
  {
   "cell_type": "code",
   "execution_count": null,
   "metadata": {},
   "outputs": [],
   "source": []
  }
 ],
 "metadata": {
  "kernelspec": {
   "display_name": "Python 3",
   "language": "python",
   "name": "python3"
  },
  "language_info": {
   "codemirror_mode": {
    "name": "ipython",
    "version": 3
   },
   "file_extension": ".py",
   "mimetype": "text/x-python",
   "name": "python",
   "nbconvert_exporter": "python",
   "pygments_lexer": "ipython3",
   "version": "3.7.0"
  }
 },
 "nbformat": 4,
 "nbformat_minor": 2
}
