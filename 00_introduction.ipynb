{
 "cells": [
  {
   "cell_type": "markdown",
   "metadata": {},
   "source": [
    "Check online documentation on jupyter [here](http://nbviewer.jupyter.org/urls/bitbucket.org/ipre/calico/raw/master/notebooks/Documentation/Reference%20Guide/Reference%20Guide.ipynb)"
   ]
  },
  {
   "cell_type": "code",
<<<<<<< HEAD
   "execution_count": 2,
=======
   "execution_count": 8,
>>>>>>> master
   "metadata": {},
   "outputs": [
    {
     "name": "stdout",
     "output_type": "stream",
     "text": [
<<<<<<< HEAD
      "no gaussian integrals allowed here\n"
=======
      "this is python, programming is fun again\n"
>>>>>>> master
     ]
    }
   ],
   "source": [
    "print(\"no gaussian integrals allowed here\")"
   ]
  },
  {
   "cell_type": "markdown",
   "metadata": {},
   "source": [
    "## Variables"
   ]
  },
  {
   "cell_type": "code",
<<<<<<< HEAD
   "execution_count": 3,
=======
   "execution_count": 11,
>>>>>>> master
   "metadata": {},
   "outputs": [
    {
     "name": "stdout",
     "output_type": "stream",
     "text": [
<<<<<<< HEAD
      "1.536884739516423\n"
=======
      "2\n"
>>>>>>> master
     ]
    },
    {
     "data": {
      "text/plain": [
<<<<<<< HEAD
       "float"
      ]
     },
     "execution_count": 3,
=======
       "str"
      ]
     },
     "execution_count": 11,
>>>>>>> master
     "metadata": {},
     "output_type": "execute_result"
    }
   ],
   "source": [
    "# This b.t.w is a comment\n",
    "import numpy as np\n",
    "\n",
<<<<<<< HEAD
    "variable =  np.random.randn()\n",
=======
    "variable = \"2\"\n",
>>>>>>> master
    "print(variable)\n",
    "type(variable)\n",
    "\n"
   ]
  },
  {
   "cell_type": "markdown",
   "metadata": {},
   "source": [
    "the function `print` allows also more powerful way of outputting numbers:"
   ]
  },
  {
   "cell_type": "code",
<<<<<<< HEAD
   "execution_count": 15,
=======
   "execution_count": 12,
>>>>>>> master
   "metadata": {},
   "outputs": [
    {
     "name": "stdout",
     "output_type": "stream",
     "text": [
<<<<<<< HEAD
      "Art: %5d\n"
=======
      "Art:   453, Prince per unit:    59.06\n"
>>>>>>> master
     ]
    }
   ],
   "source": [
<<<<<<< HEAD
    "print (\"Art: %5d\")"
=======
    "print (\"Art: %5d, Prince per unit: %8.2f\"% (453, 59.058))"
>>>>>>> master
   ]
  },
  {
   "cell_type": "code",
<<<<<<< HEAD
   "execution_count": 23,
=======
   "execution_count": 15,
>>>>>>> master
   "metadata": {},
   "outputs": [
    {
     "name": "stdout",
     "output_type": "stream",
     "text": [
<<<<<<< HEAD
      "5 1\n",
      "6\n"
     ]
=======
      "5 1\n"
     ]
    },
    {
     "data": {
      "text/plain": [
       "'51'"
      ]
     },
     "execution_count": 15,
     "metadata": {},
     "output_type": "execute_result"
>>>>>>> master
    }
   ],
   "source": [
    "a, b = 5,\"1\"# a python trick to assign values to more than one variable\n",
    "print (a,b)\n",
<<<<<<< HEAD
    "c = a + int(b)\n",
    "print(c)"
=======
    "str(a)+b"
   ]
  },
  {
   "cell_type": "code",
   "execution_count": 24,
   "metadata": {},
   "outputs": [
    {
     "name": "stdout",
     "output_type": "stream",
     "text": [
      "set the value of x18\n",
      "18\n"
     ]
    }
   ],
   "source": [
    "x=input(\"set the value of x\")\n",
    "print (x)"
>>>>>>> master
   ]
  },
  {
   "cell_type": "markdown",
   "metadata": {},
   "source": [
    "try to sum a and b; if it doesn't work, cast one of the two and repeat"
   ]
  },
  {
   "cell_type": "markdown",
   "metadata": {},
   "source": [
    "## Operators\n",
    "the usual stuff.."
   ]
  },
  {
   "cell_type": "code",
<<<<<<< HEAD
   "execution_count": 4,
=======
   "execution_count": 23,
>>>>>>> master
   "metadata": {},
   "outputs": [
    {
     "name": "stdout",
     "output_type": "stream",
     "text": [
<<<<<<< HEAD
      "0.75\n",
      "0.75\n",
      "3\n",
      "2.0\n",
      "81\n",
      "0.75\n",
      "0.75\n"
=======
      "<class 'int'>\n",
      "<class 'float'>\n"
>>>>>>> master
     ]
    }
   ],
   "source": [
<<<<<<< HEAD
    "print(3/4)\n",
    "print(3.0 / 4.0)\n",
    "print(3%4)\n",
    "print(9.99999//4) #integer division cast the number to integer before operating\n",
    "print(3**4)\n",
    "a = 3\n",
    "b = 4\n",
    "print(a/b)\n",
    "print(float(a)/float(b))"
=======
    "#print(3/4)\n",
    "#print(3.0 / 4.0)\n",
    "#print(3%4)\n",
    "#print(3//4)\n",
    "#print(3**4)\n",
    "#print(pow(3,4))\n",
    "\n",
    "x=1\n",
    "print(type(x))\n",
    "y=1.0\n",
    "print(type(y))\n",
    "#a,b = int(3), int(4)\n",
    "#print(a/b)\n",
    "#print(float(a)/float(b))"
>>>>>>> master
   ]
  },
  {
   "cell_type": "markdown",
   "metadata": {},
   "source": [
    "## Iterators\n",
    "very similar to all other languages. Start exploring the `range` and `enumerate` functions"
   ]
  },
  {
   "cell_type": "code",
<<<<<<< HEAD
   "execution_count": 5,
   "metadata": {},
   "outputs": [
    {
     "data": {
      "image/png": "iVBORw0KGgoAAAANSUhEUgAAAXwAAAD8CAYAAAB0IB+mAAAABHNCSVQICAgIfAhkiAAAAAlwSFlz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\n",
      "text/plain": [
       "<matplotlib.figure.Figure at 0x7fa2783901d0>"
      ]
     },
     "metadata": {},
     "output_type": "display_data"
    }
   ],
   "source": [
    "import numpy as np\n",
    "import matplotlib.pyplot as plt\n",
    "\n",
    "count = 10000\n",
    "std=0.1\n",
    "x = np.zeros(count)\n",
    "for i in range(0,count-1):\n",
    "    x[i+1]=x[i]+std*np.random.randn()\n",
    "plt.plot(np.arange(0,count),x)\n",
    "plt.show()"
=======
   "execution_count": 26,
   "metadata": {},
   "outputs": [
    {
     "name": "stdout",
     "output_type": "stream",
     "text": [
      "1\n",
      "2\n",
      "3\n",
      "4\n",
      "5\n",
      "6\n",
      "7\n",
      "8\n",
      "9\n"
     ]
    }
   ],
   "source": [
    "for i in range(1,10): print (i)"
>>>>>>> master
   ]
  },
  {
   "cell_type": "code",
<<<<<<< HEAD
   "execution_count": 6,
=======
   "execution_count": 27,
>>>>>>> master
   "metadata": {},
   "outputs": [
    {
     "name": "stdout",
     "output_type": "stream",
     "text": [
      "1\n",
      "2\n",
      "3\n",
      "4\n",
      "5\n",
      "6\n",
      "7\n",
      "8\n",
      "9\n"
     ]
    }
   ],
   "source": [
    "i = 1\n",
    "while i < 10:\n",
    "    print(i)\n",
    "    i+=1"
   ]
  },
  {
   "cell_type": "code",
<<<<<<< HEAD
   "execution_count": 7,
=======
   "execution_count": 28,
>>>>>>> master
   "metadata": {},
   "outputs": [
    {
     "name": "stdout",
     "output_type": "stream",
     "text": [
      "0 4\n",
      "1 5\n",
      "2 2\n",
      "3 7\n"
     ]
    }
   ],
   "source": [
    "#enumerate prende u>n array e ne stampa anche gli indici\n",
    "for i, j in enumerate([4,5,2,7]): print(i,j)"
   ]
  },
  {
   "cell_type": "markdown",
   "metadata": {},
   "source": [
    "## Conditional Statements\n",
    "Mind the indentation! "
   ]
  },
  {
   "cell_type": "code",
<<<<<<< HEAD
   "execution_count": 22,
=======
   "execution_count": 33,
>>>>>>> master
   "metadata": {},
   "outputs": [
    {
     "name": "stdout",
     "output_type": "stream",
     "text": [
<<<<<<< HEAD
      "0.500612383751\n"
=======
      "elif\n"
>>>>>>> master
     ]
    }
   ],
   "source": [
<<<<<<< HEAD
    "import numpy as np\n",
    "\n",
    "count = 100000\n",
    "x = np.random.rand(count)\n",
    "\n",
    "#for i in range(0,count):\n",
    " #   if x[i] < 0.5:\n",
    "  #      continue\n",
    "   # else:\n",
    "    #    print(x[i])\n",
    "print(x.mean())"
=======
    "a = 21\n",
    "if a >= 22: \n",
    "    print(\"if\")\n",
    "elif a >= 21:\n",
    "    print(\"elif\")\n",
    "else:\n",
    "    print(\"else\")"
>>>>>>> master
   ]
  },
  {
   "cell_type": "markdown",
   "metadata": {},
   "source": [
    "try/except: a very important and powerful type of conditional expression, use it and use it with care "
   ]
  },
  {
   "cell_type": "code",
<<<<<<< HEAD
   "execution_count": 28,
=======
   "execution_count": 36,
>>>>>>> master
   "metadata": {},
   "outputs": [
    {
     "name": "stdout",
     "output_type": "stream",
     "text": [
<<<<<<< HEAD
      "The variable with type <class 'str'> is not a number\n"
=======
      "3\n"
>>>>>>> master
     ]
    }
   ],
   "source": [
    "a = 1\n",
    "try:\n",
    "  b = a + 2\n",
    "  print (b)\n",
    "except:\n",
    "  print(\"The variable with type\", type(a), \"is not a number\")"
   ]
  },
  {
   "cell_type": "markdown",
   "metadata": {},
   "source": [
    "# Functions"
   ]
  },
  {
   "cell_type": "code",
<<<<<<< HEAD
   "execution_count": 33,
   "metadata": {},
   "outputs": [
    {
     "name": "stdout",
     "output_type": "stream",
     "text": [
      "15\n",
      "0\n",
      "1.25\n",
      "FAIL\n"
     ]
    }
   ],
   "source": [
    "def findzeros(f,a,b,steps):\n",
    "    left = a\n",
    "    right = b\n",
    "    for i in range(0,steps):\n",
    "        fl = f(left)\n",
    "        fr = f(right)\n",
    "        middle = (right+left)/2\n",
    "        fm = f(middle)\n",
    "        print(fl)\n",
    "        print(fr)\n",
    "        print(fm)\n",
    "        if fl*fm < 0:\n",
    "            right=middle\n",
    "        elif fm*fr < 0:\n",
    "            left = middle\n",
    "        else:\n",
    "            print(\"FAIL\")\n",
    "            break\n",
    "            \n",
    "def testfunc(x):\n",
    "    return x**2-1\n",
    "\n",
    "findzeros(testfunc,-4,1,100)"
=======
   "execution_count": 41,
   "metadata": {},
   "outputs": [
    {
     "data": {
      "text/plain": [
       "7"
      ]
     },
     "execution_count": 41,
     "metadata": {},
     "output_type": "execute_result"
    }
   ],
   "source": [
    "def my_function(a,b=2):\n",
    "    result = a+2*b\n",
    "    return result\n",
    "\n",
    "my_function(3)"
>>>>>>> master
   ]
  },
  {
   "cell_type": "markdown",
   "metadata": {},
   "source": [
    "Notice that the function does not specify the types of the arguments, like you would see in statically typed languages. This is both useful and dangerous. Use the try/except construction to make it safe"
   ]
  },
  {
   "cell_type": "markdown",
   "metadata": {},
   "source": [
    "# Lists, Tuples, Dictionaries"
   ]
  },
  {
   "cell_type": "markdown",
   "metadata": {},
   "source": [
    "## Lists\n",
    "Lists are exactly as the name implies. They are lists of objects. The objects can be any data type (including lists), and it is allowed to mix data types. In this way they are much more flexible than arrays. It is possible to append, delete, insert and count elements and to sort, reverse, etc. the list."
   ]
  },
  {
   "cell_type": "code",
<<<<<<< HEAD
   "execution_count": null,
   "metadata": {
    "collapsed": true
   },
   "outputs": [],
=======
   "execution_count": 42,
   "metadata": {},
   "outputs": [
    {
     "name": "stdout",
     "output_type": "stream",
     "text": [
      "['A', 'B', 'F', 'G', 'd', 'x', 'c', [1, 2, 3, 'this is a string', 5.3], 3]\n"
     ]
    }
   ],
>>>>>>> master
   "source": [
    "a_list = [1,2,3,\"this is a string\",5.3]\n",
    "b_list = [\"A\",\"B\",\"F\",\"G\",\"d\",\"x\",\"c\",a_list,3]\n",
    "print(b_list)"
   ]
  },
  {
   "cell_type": "markdown",
   "metadata": {},
   "source": [
    "Manipulations of list is rather intuitive"
   ]
  },
  {
   "cell_type": "code",
<<<<<<< HEAD
   "execution_count": 34,
=======
   "execution_count": 46,
>>>>>>> master
   "metadata": {},
   "outputs": [
    {
     "name": "stdout",
     "output_type": "stream",
     "text": [
      "7\n",
      "10\n",
      "[3, 4]\n",
      "[7, 5, 3]\n",
      "[4, 10]\n",
      "[4, 10]\n",
      "[5, 10]\n"
     ]
    }
   ],
   "source": [
    "a = [7,5,3,4,10]\n",
    "print(a[0])\n",
    "print(a[-1])\n",
    "print(a[2:4])\n",
    "print(a[:3])\n",
    "print(a[3:])\n",
    "print(a[3:len(a)])\n",
    "print(a[1::3])"
   ]
  },
  {
   "cell_type": "code",
<<<<<<< HEAD
   "execution_count": null,
   "metadata": {
    "collapsed": true
   },
   "outputs": [],
=======
   "execution_count": 47,
   "metadata": {},
   "outputs": [
    {
     "name": "stdout",
     "output_type": "stream",
     "text": [
      "[0, 7, 5, 3, 4, 10]\n",
      "[0, 7, 5, 3, 4, 10, 8]\n",
      "[8, 10, 4, 3, 5, 7, 0]\n",
      "[0, 3, 4, 5, 7, 8, 10]\n",
      "[0, 3, 4, 5, 7, 8]\n",
      "[0, 4, 5, 7, 8]\n",
      "[0, 4, 5, 7]\n"
     ]
    }
   ],
>>>>>>> master
   "source": [
    "a.insert(0,0)\n",
    "print(a)\n",
    "a.append(8)\n",
    "print(a)\n",
    "a.reverse()\n",
    "print(a)\n",
    "a.sort()\n",
    "print(a)\n",
    "a.pop()\n",
    "print(a)\n",
    "a.remove(3)\n",
    "print(a)\n",
    "a.remove(a[4])\n",
    "print(a)\n",
    "\n"
   ]
  },
  {
   "cell_type": "markdown",
   "metadata": {},
   "source": [
    "Very fancy operations are possibile (known as list [comprehensions](https://docs.python.org/2/tutorial/datastructures.html?highlight=comprehensions))"
   ]
  },
  {
   "cell_type": "code",
<<<<<<< HEAD
   "execution_count": 36,
=======
   "execution_count": 48,
>>>>>>> master
   "metadata": {},
   "outputs": [
    {
     "name": "stdout",
     "output_type": "stream",
     "text": [
      "[0, 2, 4, 6, 8, 10, 12, 14, 16, 18]\n"
     ]
    }
   ],
   "source": [
    "even_numbers = [x for x in range(20) if x % 2 == 0]\n",
    "print (even_numbers)"
   ]
  },
  {
   "cell_type": "markdown",
   "metadata": {},
   "source": [
    "strings are lists and feature all operations permitted on strings, comprehensions as well"
   ]
  },
  {
   "cell_type": "code",
<<<<<<< HEAD
   "execution_count": 41,
=======
   "execution_count": 49,
>>>>>>> master
   "metadata": {},
   "outputs": [
    {
     "name": "stdout",
     "output_type": "stream",
     "text": [
<<<<<<< HEAD
      "['b', 'c', 'a', 'u', 's', ' ', 't', 'h', ' ', 'n', 'i', 'g', 'h', 't', ' ', 'i', 's', ' ', 'd', 'a', 'r', 'k', ' ', 'a', 'n', 'd', ' ', 'f', 'u', 'l', 'l', ' ', 'o', 'f', ' ', 't', 'r', 'r', 'o', 'r', 's']\n"
=======
      "['I', 't', ' ', 'w', 'a', 's', ' ', 'a', ' ', 'd', 'a', 'r', 'k', ' ', 'a', 'n', 'd', ' ', 's', 't', 'o', 'r', 'm', 'y', ' ', 'n', 'i', 'g', 'h', 't', '.']\n"
>>>>>>> master
     ]
    }
   ],
   "source": [
    "first_sentence = \"because the night is dark and full of terrors\"\n",
    "characters = [x for x in first_sentence if x != 'e']\n",
    "print(characters)"
   ]
  },
  {
   "cell_type": "markdown",
   "metadata": {},
   "source": [
    "## Tuples\n",
    "Tuples are like lists with one very important difference. Tuples are not changeable."
   ]
  },
  {
   "cell_type": "code",
<<<<<<< HEAD
   "execution_count": 37,
=======
   "execution_count": 50,
>>>>>>> master
   "metadata": {},
   "outputs": [
    {
     "name": "stdout",
     "output_type": "stream",
     "text": [
      "(1, 2, 3, 4)\n"
     ]
    },
    {
     "ename": "TypeError",
     "evalue": "'tuple' object does not support item assignment",
     "output_type": "error",
     "traceback": [
      "\u001b[0;31m---------------------------------------------------------------------------\u001b[0m",
      "\u001b[0;31mTypeError\u001b[0m                                 Traceback (most recent call last)",
<<<<<<< HEAD
      "\u001b[0;32m<ipython-input-37-cb3ad37b3c7d>\u001b[0m in \u001b[0;36m<module>\u001b[0;34m()\u001b[0m\n\u001b[1;32m      1\u001b[0m \u001b[0ma\u001b[0m \u001b[0;34m=\u001b[0m \u001b[0;34m(\u001b[0m\u001b[0;36m1\u001b[0m\u001b[0;34m,\u001b[0m\u001b[0;36m2\u001b[0m\u001b[0;34m,\u001b[0m\u001b[0;36m3\u001b[0m\u001b[0;34m,\u001b[0m\u001b[0;36m4\u001b[0m\u001b[0;34m)\u001b[0m\u001b[0;34m\u001b[0m\u001b[0m\n\u001b[1;32m      2\u001b[0m \u001b[0mprint\u001b[0m\u001b[0;34m(\u001b[0m\u001b[0ma\u001b[0m\u001b[0;34m)\u001b[0m\u001b[0;34m\u001b[0m\u001b[0m\n\u001b[0;32m----> 3\u001b[0;31m \u001b[0ma\u001b[0m\u001b[0;34m[\u001b[0m\u001b[0;36m1\u001b[0m\u001b[0;34m]\u001b[0m \u001b[0;34m=\u001b[0m \u001b[0;36m2\u001b[0m\u001b[0;34m\u001b[0m\u001b[0m\n\u001b[0m",
=======
      "\u001b[0;32m<ipython-input-50-69d310c07e2c>\u001b[0m in \u001b[0;36m<module>\u001b[0;34m()\u001b[0m\n\u001b[1;32m      1\u001b[0m \u001b[0ma\u001b[0m \u001b[0;34m=\u001b[0m \u001b[0;34m(\u001b[0m\u001b[0;36m1\u001b[0m\u001b[0;34m,\u001b[0m\u001b[0;36m2\u001b[0m\u001b[0;34m,\u001b[0m\u001b[0;36m3\u001b[0m\u001b[0;34m,\u001b[0m\u001b[0;36m4\u001b[0m\u001b[0;34m)\u001b[0m\u001b[0;34m\u001b[0m\u001b[0m\n\u001b[1;32m      2\u001b[0m \u001b[0mprint\u001b[0m\u001b[0;34m(\u001b[0m\u001b[0ma\u001b[0m\u001b[0;34m)\u001b[0m\u001b[0;34m\u001b[0m\u001b[0m\n\u001b[0;32m----> 3\u001b[0;31m \u001b[0ma\u001b[0m\u001b[0;34m[\u001b[0m\u001b[0;36m1\u001b[0m\u001b[0;34m]\u001b[0m \u001b[0;34m=\u001b[0m \u001b[0;36m2\u001b[0m\u001b[0;34m\u001b[0m\u001b[0m\n\u001b[0m",
>>>>>>> master
      "\u001b[0;31mTypeError\u001b[0m: 'tuple' object does not support item assignment"
     ]
    }
   ],
   "source": [
    "a = (1,2,3,4)\n",
    "print(a)\n",
    "a[1] = 2"
   ]
  },
  {
   "cell_type": "markdown",
   "metadata": {},
   "source": [
    "## Dictionaries\n",
    "Dictionaries are of paramount importance and a major asset of python.\n",
    "They are unordered, keyed lists. Lists are ordered, and the index may be viewed as a key."
   ]
  },
  {
   "cell_type": "code",
<<<<<<< HEAD
   "execution_count": null,
   "metadata": {
    "collapsed": true
   },
   "outputs": [],
=======
   "execution_count": 51,
   "metadata": {},
   "outputs": [
    {
     "name": "stdout",
     "output_type": "stream",
     "text": [
      "A\n"
     ]
    }
   ],
>>>>>>> master
   "source": [
    "a = {'anItem': \"A\", 'anotherItem': [\"a,bc\"],3:\"C\",'afourthItem':7} # dictionary example\n",
    "print(a['anItem'])"
   ]
  },
  {
   "cell_type": "code",
   "execution_count": null,
   "metadata": {
    "collapsed": true
   },
   "outputs": [],
   "source": [
    "for i in a: print (i,a[i]) "
   ]
  },
  {
   "cell_type": "markdown",
   "metadata": {},
   "source": [
    "## Strings and String Handling\n",
    "One of the most important features of Python is its powerful and easy handling of strings. Defining strings is simple enough in most languages. But in Python, it is easy to search and replace, convert cases, concatenate, or access elements. We’ll discuss a few of these here. For a complete list, see this [tutorial]( http://www.tutorialspoint.com/python/python_strings.htm)"
   ]
  },
  {
   "cell_type": "code",
   "execution_count": null,
   "metadata": {
    "collapsed": true
   },
   "outputs": [],
   "source": [
    "a = \"A string of characters, with newline \\n CAPITALS, etc.\"\n",
    "print(a)\n",
    "b=5.0\n",
    "newstring = a + \"\\n We can format strings for printing %.2f\"\n",
    "print(newstring %b)"
   ]
  },
  {
   "cell_type": "markdown",
   "metadata": {},
   "source": [
    "Operations are easy (remember strings are lists!)"
   ]
  },
  {
   "cell_type": "code",
   "execution_count": null,
   "metadata": {
    "collapsed": true
   },
   "outputs": [],
   "source": [
    "a = \"ABC DEFG\"\n",
    "print(a[1:3])\n",
    "print(a[0:5])"
   ]
  },
  {
   "cell_type": "code",
   "execution_count": 42,
   "metadata": {},
   "outputs": [
    {
     "name": "stdout",
     "output_type": "stream",
     "text": [
      "abc defg\n",
      "ABC DEFG\n",
      "4\n",
      "ABC afg\n",
      "ABC defg\n",
      "ABC aaag\n",
      "ABC cccg\n"
     ]
    },
    {
     "data": {
      "text/plain": [
       "3"
      ]
     },
     "execution_count": 42,
     "metadata": {},
     "output_type": "execute_result"
    }
   ],
   "source": [
    "a = \"ABC defg\"\n",
    "print(a.lower())\n",
    "print(a.upper())\n",
    "print(a.find('d'))\n",
    "print(a.replace('de','a'))\n",
    "print(a)\n",
    "b = a.replace('def','aaa')\n",
    "print(b)\n",
    "b = b.replace('a','c')\n",
    "print(b)\n",
    "b.count('c')"
   ]
  },
  {
   "cell_type": "code",
<<<<<<< HEAD
   "execution_count": 43,
=======
   "execution_count": 52,
   "metadata": {},
   "outputs": [
    {
     "data": {
      "text/plain": [
       "'abc defg'"
      ]
     },
     "execution_count": 52,
     "metadata": {},
     "output_type": "execute_result"
    }
   ],
   "source": [
    "\"ABC defg\".lower()\n",
    "\n"
   ]
  },
  {
   "cell_type": "code",
   "execution_count": null,
>>>>>>> master
   "metadata": {},
   "outputs": [
    {
     "name": "stdout",
     "output_type": "stream",
     "text": [
      "compare\n"
     ]
    }
   ],
   "source": [
    "print(\"compare\")"
   ]
  },
  {
   "cell_type": "code",
   "execution_count": null,
   "metadata": {
    "collapsed": true
   },
   "outputs": [],
   "source": []
  }
 ],
 "metadata": {
  "kernelspec": {
   "display_name": "Python 3",
   "language": "python",
   "name": "python3"
  },
  "language_info": {
   "codemirror_mode": {
    "name": "ipython",
    "version": 3
   },
   "file_extension": ".py",
   "mimetype": "text/x-python",
   "name": "python",
   "nbconvert_exporter": "python",
   "pygments_lexer": "ipython3",
   "version": "3.6.3"
  }
 },
 "nbformat": 4,
 "nbformat_minor": 2
}
